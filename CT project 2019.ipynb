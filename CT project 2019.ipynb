{
 "cells": [
  {
   "cell_type": "markdown",
   "metadata": {},
   "source": [
    "# Project: Benchmarking Sorting Algorithms"
   ]
  },
  {
   "cell_type": "markdown",
   "metadata": {},
   "source": [
    "## Introduction\n",
    "\n",
    "Sorting is simply arranging data in ascending or descending order and arranging data in a sequence which makes searching easier.Humans recognise the importance of searching quickly with plenty of real world problems requiring the ability to search quickly e.g. a search for telephone numbers in telephone directory would be much slower if the data was kept unordered and unsorted, but fortunately the concept of sorting came into existence, making it easier for everyone to arrange data in an order. [1]\n",
    "\n",
    "Space complexity is the amount of memory used by the algorithm (including the input values to the algorithm) to execute and produce the result. While executing an algorithm uses memory space for three reasons: 1. Instruction Space - the amount of memory used to save the compiled version of instructions; 2. Environmental Stack - Sometimes an algorithm(function) may be called inside another algorithm(function), in that situation the current variables are pushed onto the system stack, where they wait for further execution and then the call to the inside algorithm(function) is made. 3. Data Space - is the amount of space used by the variables and constants.\n",
    "\n",
    "Time complexity of an algorithm signifies the total time required by the program to run until completion and is most commonly expressed using the big O notation. Time complexity is estimated by counting the number of elementary steps performed by any algorithm to finish execution, and since the algorithm's performance may vary with different types of input data for an algorithm we usually use the worst-case Time complexity of an algorithm because that is the maximum time taken for any input size.\n",
    "\n",
    "The most common metric for calculating time complexity is Big O notation. This removes all constant factors so that the running time can be estimated in relation to N, as N approaches infinity. Big O(expression) is the set of functions that grow slower than or at the same rate as expression. It indicates the maximum time required by an algorithm for all input values and represents the worst case of an algorithm's time complexity.\n",
    "\n",
    "The Omega(expression) is the set of functions that grow faster than or at the same rate as expression. It indicates the minimum time required by an algorithm for all input values. It represents the best case of an algorithm's time complexity.\n",
    "\n",
    "Finally Theta(expression) consist of all the functions that lie in both O(expression) and Omega(expression). It indicates the average bound of an algorithm. It represents the average case of an algorithm's time complexity.\n",
    "\n",
    "The different sorting algorithms all highlight how algorithm design has such a strong effect on program complexity, speed, and efficiency. The two main criteria used in the performance analysis of an alogrithim are time taken to sort the given data, and memory used to in order to sort. [1]\n",
    "\n",
    "Sorting can be classified in two types on the basis of extra space used for sorting: In place sorting does not use any extra space for sorting purpose e.g. quick sort ,merge sort ,bubble sort; Out place sorting needs extra space for sorting purposes e.g. Merge sort. [2] \n",
    "\n",
    "A stable sorting algorithm maintains the relative order of the items with equal sort keys e.g. Insertion sort. An unstable sorting algorithm does not e.g. Selection sort. In other words, when a collection is sorted with a stable sorting algorithm, items with the same sort keys preserve their order after the collection is sorted. [3}\n",
    "\n",
    "The QuickSort algorithm can be used to sort an array, and utilisises the comparator function which can take two arguments and contains logic to decide their relative order in a sorted output. The idea is to provide flexibility so that Quicksort can be used for any input type and to obtain any desired order (increasing, decreasing or any other).\n",
    "\n",
    "A comparison-based sort algorithm uses comparisons between keys (part of a group of data by which it is sorted) to arrange items in a predetermined order and cannot perform better than O(n log n) in the average or worst case e.g. Quicksort.\n",
    "With a non-comparison-based sort algorithm, the keys are not compared rather it sorts the keys by sorting individual digits which may share the same position e.g. bucket sort. [4] \n",
    "\n",
    "\n"
   ]
  },
  {
   "cell_type": "markdown",
   "metadata": {},
   "source": [
    "## Sorting Algorithms\n",
    "\n",
    "### 1. A simple comparison-based sort: Selection Sort\n",
    "\n",
    "The selection sort improves on the bubble sort by making only one exchange for every pass through the list. In order to do this, a selection sort looks for the largest value as it makes a pass and, after completing the pass, places it in the proper location. [5].<br/>\n",
    "\n",
    "Then it will find the second largest element and swap it with the element in the correct position, and it will keep on doing this until the entire array is sorted. The selection sort typically executes faster than a bubble sort because of the reduction in the number of exchanges.<br/>\n",
    "\n",
    "The selection sort algorithm below uses two nested *for* loops to complete itself, one in the function 'selectionsort'; inside the first loop we make a call to another function 'positionOfmax' which has the second *for* loop. For a given input size *n*  the Space complexity for a selection sort algorithm is 0(1) meaning the amount of memory used by the algorithm does not depend on the size of the input, it should use the same amout of memeory for all inputs. The Time complexity for a selection sort algorithm is O(n<sup>2</sup>) or Quadratic time where time execution is proportional to the square of the input size so Selection sort is good for sorting arrays of small size but can become inefficient as imput size increases.\n"
   ]
  },
  {
   "cell_type": "code",
   "execution_count": 8,
   "metadata": {},
   "outputs": [
    {
     "name": "stdout",
     "output_type": "stream",
     "text": [
      "[7, 23, 31, 55, 77, 99, 125, 200, 444]\n"
     ]
    }
   ],
   "source": [
    "# reference: http://interactivepython.org/runestone/static/pythonds/SortSearch/TheSelectionSort.html\n",
    "\n",
    "def selectionSort(alist):\n",
    "   for fillslot in range(len(alist)-1,0,-1):\n",
    "       positionOfMax=0\n",
    "       for location in range(1,fillslot+1):\n",
    "           if alist[location]>alist[positionOfMax]:\n",
    "               positionOfMax = location\n",
    "\n",
    "       temp = alist[fillslot]\n",
    "       alist[fillslot] = alist[positionOfMax]\n",
    "       alist[positionOfMax] = temp\n",
    "\n",
    "alist = [125,23,99,7,77,31,444,55,200]\n",
    "selectionSort(alist)\n",
    "print(alist)"
   ]
  },
  {
   "cell_type": "markdown",
   "metadata": {},
   "source": [
    "#### Selection sort:\n",
    "![title](Images/selection.png)"
   ]
  },
  {
   "cell_type": "markdown",
   "metadata": {},
   "source": [
    "### 2. An efficient comparison-based: Merge Sort\n",
    "The Merge Sort follows the rule of Divide and Conquer to sort a given set of data, it divides the input array into two halves and then merges the two sorted halves using the *merge() function*.\n",
    "\n",
    "Merging is the process of taking two smaller sorted lists and combining them together into a single and sorted new list. In sorting n objects, merge sort has an average and worst-case performance of O(n log n). It's best, worst and average cases are very similar, making it a good choice for predictable running behaviour.[6] \n",
    "\n",
    "We know that we can divide a list in half *log n* times where *n* is the length of the list. The second process is the merge where ach item in the list will eventually be processed and placed on the sorted list. So the merge operation which results in a list of size *n* requires *n* operations. The result of this analysis is that *log n* splits, each of which costs n for a total of *n log n* operations. The *mergeSort* function requires extra space to hold the two halves as they are extracted with the slicing operations. This additional space can be a critical factor if the list is large and can make this sort problematic when working on large data sets.[7]\n",
    "\n"
   ]
  },
  {
   "cell_type": "code",
   "execution_count": 9,
   "metadata": {},
   "outputs": [
    {
     "name": "stdout",
     "output_type": "stream",
     "text": [
      "Splitting  [54, 26, 93, 17, 77, 31, 44, 55, 20]\n",
      "Splitting  [54, 26, 93, 17]\n",
      "Splitting  [54, 26]\n",
      "Splitting  [54]\n",
      "Merging  [54]\n",
      "Splitting  [26]\n",
      "Merging  [26]\n",
      "Merging  [26, 54]\n",
      "Splitting  [93, 17]\n",
      "Splitting  [93]\n",
      "Merging  [93]\n",
      "Splitting  [17]\n",
      "Merging  [17]\n",
      "Merging  [17, 93]\n",
      "Merging  [17, 26, 54, 93]\n",
      "Splitting  [77, 31, 44, 55, 20]\n",
      "Splitting  [77, 31]\n",
      "Splitting  [77]\n",
      "Merging  [77]\n",
      "Splitting  [31]\n",
      "Merging  [31]\n",
      "Merging  [31, 77]\n",
      "Splitting  [44, 55, 20]\n",
      "Splitting  [44]\n",
      "Merging  [44]\n",
      "Splitting  [55, 20]\n",
      "Splitting  [55]\n",
      "Merging  [55]\n",
      "Splitting  [20]\n",
      "Merging  [20]\n",
      "Merging  [20, 55]\n",
      "Merging  [20, 44, 55]\n",
      "Merging  [20, 31, 44, 55, 77]\n",
      "Merging  [17, 20, 26, 31, 44, 54, 55, 77, 93]\n",
      "[17, 20, 26, 31, 44, 54, 55, 77, 93]\n"
     ]
    }
   ],
   "source": [
    "# ref. http://interactivepython.org/runestone/static/pythonds/SortSearch/TheMergeSort.html\n",
    "\n",
    "def mergeSort(alist):\n",
    "    print(\"Splitting \",alist)\n",
    "    if len(alist)>1:\n",
    "        mid = len(alist)//2\n",
    "        lefthalf = alist[:mid]\n",
    "        righthalf = alist[mid:]\n",
    "\n",
    "        mergeSort(lefthalf)\n",
    "        mergeSort(righthalf)\n",
    "\n",
    "        i=0\n",
    "        j=0\n",
    "        k=0\n",
    "        while i < len(lefthalf) and j < len(righthalf):\n",
    "            if lefthalf[i] < righthalf[j]:\n",
    "                alist[k]=lefthalf[i]\n",
    "                i=i+1\n",
    "            else:\n",
    "                alist[k]=righthalf[j]\n",
    "                j=j+1\n",
    "            k=k+1\n",
    "\n",
    "        while i < len(lefthalf):\n",
    "            alist[k]=lefthalf[i]\n",
    "            i=i+1\n",
    "            k=k+1\n",
    "\n",
    "        while j < len(righthalf):\n",
    "            alist[k]=righthalf[j]\n",
    "            j=j+1\n",
    "            k=k+1\n",
    "    print(\"Merging \",alist)\n",
    "\n",
    "alist = [54,26,93,17,77,31,44,55,20]\n",
    "mergeSort(alist)\n",
    "print(alist)\n"
   ]
  },
  {
   "cell_type": "markdown",
   "metadata": {},
   "source": [
    "#### Merge sort:\n",
    "![title](images/merge.png)"
   ]
  },
  {
   "cell_type": "markdown",
   "metadata": {},
   "source": [
    "### 3. A non-comparison sort: Bucket sort\n",
    "\n",
    "The Bucket sort is a stable sort which works by distributing the elements of an array into a series of buckets. Each bucket is then sorted individually either using a different sorting algorithm, or by recursively applying the bucket sort algorithm. It is useful when input is uniformly distributed over a range. The data items are distributed in a set of buckets, with each bucket holding a similar type of data. After distribution, each bucket is sorted using another sorting algorithm. Then all elements are gathered on the main list to get the sorted form. \n",
    "\n",
    "The Time Complexity: O(n + k) for best case and average case and O(n<sup>2</sup>) for the worst case. The Space Complexity: O(nk) for worst case. [8]"
   ]
  },
  {
   "cell_type": "code",
   "execution_count": 2,
   "metadata": {},
   "outputs": [
    {
     "name": "stdout",
     "output_type": "stream",
     "text": [
      "The Sorted Array is\n",
      "[0.1234, 0.3434, 0.565, 0.656, 0.665, 0.897]\n"
     ]
    }
   ],
   "source": [
    "# ref: https://www.geeksforgeeks.org/bucket-sort-2/\n",
    "\n",
    "def insertionSort(b): \n",
    "    for i in range(1, len(b)): \n",
    "        up = b[i] \n",
    "        j = i - 1\n",
    "        while j >=0 and b[j] > up:  \n",
    "            b[j + 1] = b[j] \n",
    "            j -= 1\n",
    "        b[j + 1] = up     \n",
    "    return b      \n",
    "              \n",
    "def bucketSort(x): \n",
    "    arr = [] \n",
    "    slot_num = 10 # 10 means 10 slots, each \n",
    "                  # slot's size is 0.1 \n",
    "    for i in range(slot_num): \n",
    "        arr.append([]) \n",
    "          \n",
    "    # Put array elements in different buckets  \n",
    "    for j in x: \n",
    "        index_b = int(slot_num * j)  \n",
    "        arr[index_b].append(j) \n",
    "      \n",
    "    # Sort individual buckets  \n",
    "    for i in range(slot_num): \n",
    "        arr[i] = insertionSort(arr[i]) \n",
    "          \n",
    "    # concatenate the result \n",
    "    k = 0\n",
    "    for i in range(slot_num): \n",
    "        for j in range(len(arr[i])): \n",
    "            x[k] = arr[i][j] \n",
    "            k += 1\n",
    "    return x \n",
    "\n",
    "# unsorted array given \n",
    "x = [0.897, 0.565, 0.656, \n",
    "     0.1234, 0.665, 0.3434]  \n",
    "print(\"The Sorted Array is\") \n",
    "print(bucketSort(x)) "
   ]
  },
  {
   "cell_type": "markdown",
   "metadata": {},
   "source": [
    "#### Bucket sort:\n",
    "![title](Images/bucket.png)"
   ]
  },
  {
   "cell_type": "markdown",
   "metadata": {},
   "source": [
    "### 4.Quick Sort\n",
    "\n",
    "The quick sort uses divide and conquer to gain the same advantages as the merge sort, while not using additional storage. As a trade-off, however, it is possible that the list may not be divided in half. When this happens, we will see that performance is diminished.[9].\n",
    "\n",
    "Quicksort is commonly used sorting algorithm due to its efficiency. It works by first performing a Pivot selection: Picking an element called a “pivot” from the array; then Partioning (or reorder)of the array elements with values < the pivot coming before it; and all elements with values ≥ than the pivot come after it. After this partioining the pivot is in its final position.[10]\n",
    "\n",
    "Quick sort partitions an array and then calls itself recursively twice to sort the two resulting subarrays. This algorithm is quite efficient for large-sized data sets as its average and worst case complexity are of Ο(n2), where n is the number of items.\n",
    "\n",
    "The time taken by QuickSort depends upon the input array and partition strategy. The worst case occurs when the partition process always picks the greatest or smallest element as the pivot, where the last element is always picked as pivot, the worst case would occur when the array is already sorted in increasing or decreasing order which would be O(n<sup>2</sup>). The best case occurs when the partition process always picks the middle element as pivot which would be *O(nLogn)*.  To get an idea of average case we can consider the case when partition puts *O(n/9)* elements in one set and *O(9n/10)* elements in other set with recurrence of *O(nLogn)*. \n",
    "Eventhough the worst case time complexity of QuickSort is more than many other sorting algorithms like Merge Sort, QuickSort is faster in practice because its inner loop can be efficiently implemented with most real-world data. QuickSort can be implemented in different ways by changing the choice of pivot, so that the worst case rarely occurs for a given type of data. However, merge sort is generally considered better when data is huge and stored in external storage. [11]\n"
   ]
  },
  {
   "cell_type": "code",
   "execution_count": 3,
   "metadata": {},
   "outputs": [
    {
     "name": "stdout",
     "output_type": "stream",
     "text": [
      "The Sorted array is:\n",
      "1\n",
      "4\n",
      "5\n",
      "7\n",
      "8\n",
      "9\n",
      "10\n",
      "15\n",
      "19\n",
      "33\n"
     ]
    }
   ],
   "source": [
    "# ref: https://www.geeksforgeeks.org/quick-sort/\n",
    "\n",
    "# This function takes last element as pivot, places \n",
    "# the pivot element at its correct position in sorted \n",
    "# array, and places all smaller (smaller than pivot) \n",
    "# to left of pivot and all greater elements to right \n",
    "# of pivot \n",
    "def partition(arr,low,high): \n",
    "    i = ( low-1 )         # index of smaller element \n",
    "    pivot = arr[high]     # pivot \n",
    "  \n",
    "    for j in range(low , high): \n",
    "  \n",
    "        # If current element is smaller than or \n",
    "        # equal to pivot \n",
    "        if   arr[j] <= pivot: \n",
    "          \n",
    "            # increment index of smaller element \n",
    "            i = i+1 \n",
    "            arr[i],arr[j] = arr[j],arr[i] \n",
    "  \n",
    "    arr[i+1],arr[high] = arr[high],arr[i+1] \n",
    "    return ( i+1 ) \n",
    "  \n",
    "# The main function that implements QuickSort \n",
    "# arr[] --> Array to be sorted, \n",
    "# low  --> Starting index, \n",
    "# high  --> Ending index \n",
    "  \n",
    "# Function to do Quick sort \n",
    "def quickSort(arr,low,high): \n",
    "    if low < high: \n",
    "  \n",
    "        # pi is partitioning index, arr[p] is now \n",
    "        # at right place \n",
    "        pi = partition(arr,low,high) \n",
    "  \n",
    "        # Separately sort elements before \n",
    "        # partition and after partition \n",
    "        quickSort(arr, low, pi-1) \n",
    "        quickSort(arr, pi+1, high) \n",
    "\n",
    "# unsorted array given\n",
    "arr = [10, 7, 8, 9, 1, 5, 19, 15, 33, 4] \n",
    "n = len(arr) \n",
    "quickSort(arr,0,n-1) \n",
    "print (\"The Sorted array is:\") \n",
    "for i in range(n): \n",
    "    print (\"%d\" %arr[i]), "
   ]
  },
  {
   "cell_type": "markdown",
   "metadata": {},
   "source": [
    "#### Quick sort:\n",
    "![title](Images/quicksort.png)"
   ]
  },
  {
   "cell_type": "markdown",
   "metadata": {},
   "source": [
    "### 5. Bubble sort\n",
    "\n",
    "Bubble Sort is the simplest sorting algorithm that works by repeatedly swapping the adjacent elements if they are in wrong order, starting at the first two elements and making multiple passes through an array or list until no more swaps are required.\n",
    "\n",
    "This algorithm is not suitable for large data sets as its average and worst case complexity are of O(n<sup>2</sup>) and not efficient since it must exchange items before the final location is known. These “wasted” exchange operations are very costly. But because the bubble sort makes passes through the entire unsorted portion of the list, it has the capability to do something most sorting algorithms cannot do. If during a pass there are no exchanges, then we know that the list must be sorted. A bubble sort can be modified to stop early if it finds that the list has become sorted. This means that for lists that require just a few passes, a bubble sort may have an advantage in that it will recognize the sorted list and stop. [12]\n"
   ]
  },
  {
   "cell_type": "code",
   "execution_count": 4,
   "metadata": {},
   "outputs": [
    {
     "name": "stdout",
     "output_type": "stream",
     "text": [
      "The Sorted array is:\n",
      "3\n",
      "11\n",
      "12\n",
      "19\n",
      "22\n",
      "25\n",
      "34\n",
      "44\n",
      "64\n",
      "65\n",
      "90\n"
     ]
    }
   ],
   "source": [
    "# ref. https://www.geeksforgeeks.org/bubble-sort/\n",
    "\n",
    "def bubbleSort(arr): \n",
    "    n = len(arr) \n",
    "  \n",
    "    # Traverse through all array elements \n",
    "    for i in range(n): \n",
    "  \n",
    "        # Last i elements are already in place \n",
    "        for j in range(0, n-i-1): \n",
    "  \n",
    "            # traverse the array from 0 to n-i-1 \n",
    "            # Swap if the element found is greater \n",
    "            # than the next element \n",
    "            if arr[j] > arr[j+1] : \n",
    "                arr[j], arr[j+1] = arr[j+1], arr[j] \n",
    "\n",
    "# unsorted array given\n",
    "arr = [19, 44, 64, 34, 25, 12, 22, 11, 90, 65, 3] \n",
    "bubbleSort(arr) \n",
    "print (\"The Sorted array is:\") \n",
    "for i in range(len(arr)): \n",
    "    print (\"%d\" %arr[i]),  "
   ]
  },
  {
   "cell_type": "markdown",
   "metadata": {},
   "source": [
    "#### Bubble sort:\n",
    "![title](Images/bubble.png)"
   ]
  },
  {
   "cell_type": "markdown",
   "metadata": {},
   "source": [
    "## Implementation and Benchmarking"
   ]
  },
  {
   "cell_type": "code",
   "execution_count": 5,
   "metadata": {},
   "outputs": [
    {
     "name": "stdout",
     "output_type": "stream",
     "text": [
      "[74, 71, 9, 37, 84, 39, 51, 5, 95, 26, 2, 24, 10, 68, 85, 75, 40, 68, 32, 53, 80, 44, 13, 75, 47, 82, 50, 56, 12, 17, 38, 78, 14, 38, 6, 15, 63, 23, 81, 100, 34, 40, 62, 23, 85, 31, 59, 75, 83, 62, 94, 55, 77, 62, 74, 69, 83, 49, 13, 55, 64, 15, 90, 25, 31, 28, 10, 31, 83, 57, 76, 2, 73, 38, 25, 91, 36, 14, 95, 7, 8, 96, 70, 37, 68, 68, 90, 39, 53, 80, 64, 13, 17, 36, 88, 98, 39, 36, 57, 42]\n"
     ]
    }
   ],
   "source": [
    "# ref. Project.pdf\n",
    "\n",
    "# importing Pythons random module\n",
    "from random import *\n",
    "\n",
    "# the function random_array() takes as input a value n and returns an array of n randomly generated integers \n",
    "# with values between 0 and 99\n",
    "def random_array(n):\n",
    "    # create an array variable\n",
    "    array = []\n",
    "    # if n = 5, 0,1,2,3,4\n",
    "    for i in range(0, n, 1):\n",
    "        # add to the array random integers between 0 and 100\n",
    "        array.append(randint(0,100))\n",
    "    return array\n",
    "\n",
    "\n",
    "# assign the random array to alist\n",
    "alist = random_array(100)\n",
    "alist1 = random_array(250)\n",
    "alist2 = random_array(500)\n",
    "alist3 = random_array(750)\n",
    "alist4 = random_array(1000)\n",
    "\n",
    "print(alist)\n",
    "\n"
   ]
  },
  {
   "cell_type": "code",
   "execution_count": 6,
   "metadata": {},
   "outputs": [
    {
     "data": {
      "text/plain": [
       "[0.0009029865264892578,\n",
       " 0.006812238693237304,\n",
       " 0.028850913047790527,\n",
       " 0.07962560653686523,\n",
       " 0.1810901403427124]"
      ]
     },
     "execution_count": 6,
     "metadata": {},
     "output_type": "execute_result"
    }
   ],
   "source": [
    "# ref. Project.pdf\n",
    "\n",
    "# importing the random numbers\n",
    "from random import *\n",
    "\n",
    "\n",
    "# code sourced from http://interactivepython.org/runestone/static/pythonds/SortSearch/TheBubbleSort.html\n",
    "\n",
    "def bubbleSort(alist):\n",
    "    for passnum in range(len(alist)-1,0,-1):\n",
    "        for i in range(passnum):\n",
    "            if alist[i]>alist[i+1]:\n",
    "                temp = alist[i]\n",
    "                alist[i] = alist[i+1]\n",
    "                alist[i+1] = temp\n",
    "\n",
    "# import time module\n",
    "import time\n",
    "\n",
    "# benchmark bubble function\n",
    "global bubble_avglist\n",
    "bubble_avglist = []\n",
    "num_runs = 10\n",
    "results = []\n",
    "\n",
    "\n",
    "def benchmark_bubble():\n",
    "    for r in range(num_runs):\n",
    "        # start timer\n",
    "        start_time = time.time()\n",
    "        ######## bubblesort\n",
    "        bubbleSort(alist)\n",
    "        end_time = time.time()\n",
    "        time_elapsed= end_time - start_time\n",
    "        results.append(time_elapsed)\n",
    "    b = sum(results)\n",
    "    average = (b/num_runs)\n",
    "    bubble_avglist.append(average)\n",
    "\n",
    "\n",
    "    for r in range(num_runs):\n",
    "        # start timer\n",
    "        start_time = time.time()\n",
    "        ######## bubblesort\n",
    "        bubbleSort(alist1)\n",
    "        end_time = time.time()\n",
    "        time_elapsed= end_time - start_time\n",
    "        results.append(time_elapsed)\n",
    "    b = sum(results)\n",
    "    average = (b/num_runs)\n",
    "    bubble_avglist.append(average)\n",
    "\n",
    "\n",
    "    for r in range(num_runs):\n",
    "        # start timer\n",
    "        start_time = time.time()\n",
    "        ######## bubblesort\n",
    "        bubbleSort(alist2)\n",
    "        end_time = time.time()\n",
    "        time_elapsed= end_time - start_time\n",
    "        results.append(time_elapsed)\n",
    "    b = sum(results)\n",
    "    average = (b/num_runs)\n",
    "    bubble_avglist.append(average)\n",
    "\n",
    "    for r in range(num_runs):\n",
    "        # start timer\n",
    "        start_time = time.time()\n",
    "        ######## bubblesort\n",
    "        bubbleSort(alist3)\n",
    "        end_time = time.time()\n",
    "        time_elapsed= end_time - start_time\n",
    "        results.append(time_elapsed)\n",
    "    b = sum(results)\n",
    "    average = (b/num_runs)\n",
    "    bubble_avglist.append(average)\n",
    "\n",
    "    for r in range(num_runs):\n",
    "        # start timer\n",
    "        start_time = time.time()\n",
    "        ######## bubblesort\n",
    "        bubbleSort(alist4)\n",
    "        end_time = time.time()\n",
    "        time_elapsed= end_time - start_time\n",
    "        results.append(time_elapsed)\n",
    "    b = sum(results)\n",
    "    average = (b/num_runs)\n",
    "    bubble_avglist.append(average)\n",
    "\n",
    "   \n",
    "    return bubble_avglist\n",
    "\n",
    "benchmark_bubble()"
   ]
  },
  {
   "cell_type": "markdown",
   "metadata": {},
   "source": [
    "## Conclusion\n",
    "\n",
    "Criteria for choosing a sorting algorithm:\n",
    "\n",
    "| Criteria | Sorting Algorithm |\n",
    "|---|--- |\n",
    "| Small number of items to be sorted | Insertion Sort |\n",
    "\n",
    "Criteria \tSorting algorithm\n",
    "Small number of items to be sorted \tInsertion Sort\n",
    "Items are mostly sorted already \tInsertion Sort\n",
    "Concerned about worst-case scenarios \tHeap Sort\n",
    "Interested in a good average-case behaviour \tQuicksort\n",
    "Items are drawn from a uniform dense universe \tBucket Sort\n",
    "Desire to write as little code as possible \tInsertion Sort\n",
    "Stable sorting required \tMerge Sort\n",
    "\n",
    "\n",
    "\n",
    "    As we have seen, there are many different sorting algorithms, each of which has it own specific strengths and weaknesses.\n",
    "    Comparison-based sorts are the most widely applicable; but are limited to n log n running time in the best case\n",
    "    Non-Comparison sorts can achieve linear n running time in the best case, but are less flexible\n",
    "    Hybrid sorting algorithms allow us to leverage the strengths of two or more algorithms (e.g. Timsort = Merge sort + insertion sort)\n",
    "    There is no single algorithm which is best for all input instances; therefore it is important to use what you know about the expected input when choosing an algorithm.\n",
    "\n"
   ]
  },
  {
   "cell_type": "markdown",
   "metadata": {},
   "source": [
    "## References:\n",
    "1. https://www.studytonight.com/data-structures/introduction-to-sorting\n",
    "2. https://www.quora.com/What-are-in-place-and-out-of-place-sorting-algorithms\n",
    "3. https://medium.freecodecamp.org/stability-in-sorting-algorithms-a-treatment-of-equality-fa3140a5a539\n",
    "4. https://en.wikipedia.org/wiki/Sorting_algorithm#Stability\n",
    "5. http://interactivepython.org/runestone/static/pythonds/SortSearch/TheSelectionSort.html\n",
    "6. Source Lecture Notes: P.Mannion (2019) Computational Thinking with Algorithms - Week 10: Sorting Algorithms Part 3, GMIT.\n",
    "7. http://interactivepython.org/runestone/static/pythonds/SortSearch/TheMergeSort.html\n",
    "8. https://www.tutorialspoint.com/Bucket-Sort\n",
    "9. http://interactivepython.org/runestone/static/pythonds/SortSearch/TheQuickSort.html\n",
    "10. Source Lecture Notes: P.Mannion (2019) Computational Thinking with Algorithms - Week 10: Sorting Algorithms Part 3, GMIT.\n",
    "11. https://www.geeksforgeeks.org/quick-sort/\n",
    "12. http://interactivepython.org/runestone/static/pythonds/SortSearch/TheBubbleSort.html\n",
    "\n",
    "\n"
   ]
  },
  {
   "cell_type": "code",
   "execution_count": null,
   "metadata": {},
   "outputs": [],
   "source": []
  }
 ],
 "metadata": {
  "kernelspec": {
   "display_name": "Python 3",
   "language": "python",
   "name": "python3"
  },
  "language_info": {
   "codemirror_mode": {
    "name": "ipython",
    "version": 3
   },
   "file_extension": ".py",
   "mimetype": "text/x-python",
   "name": "python",
   "nbconvert_exporter": "python",
   "pygments_lexer": "ipython3",
   "version": "3.7.0"
  }
 },
 "nbformat": 4,
 "nbformat_minor": 2
}
