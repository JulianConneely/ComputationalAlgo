{
 "cells": [
  {
   "cell_type": "markdown",
   "metadata": {},
   "source": [
    "# Project: Benchmarking Sorting Algorithms"
   ]
  },
  {
   "cell_type": "raw",
   "metadata": {},
   "source": [
    "For  this project  you  will  write  a Python application  which will  be  used  to  benchmark  five  different sorting algorithms. \n",
    "You will also write a report which introduces the algorithms you have chosen, and discusses the results of the benchmarking process.\n",
    "The five sorting algorithms which you will implement, benchmark and discuss in this project must be chosen according to the following criteria:\n",
    "1.A simple comparison-based sort (Bubble Sort, Selection Sort or Insertion Sort)\n",
    "2.An efficient comparison-based sort (Merge Sort, Quicksort or Heap Sort)\n",
    "3.A non-comparison sort (Counting Sort, Bucket Sort or Radix Sort)\n",
    "4.Any other sorting algorithm of your choice e.g. Bogosort\n",
    "5.Any other sorting algorithm of your choice"
   ]
  },
  {
   "cell_type": "markdown",
   "metadata": {},
   "source": [
    "## Introduction\n",
    "\n",
    "Introduce the concept of sorting and sorting algorithms, discuss the relevance of concepts such as complexity (time and space), performance, in-place sorting, stable sorting, comparator functions, comparison-based and non-comparison-based sorts etc\n"
   ]
  },
  {
   "cell_type": "code",
   "execution_count": 1,
   "metadata": {},
   "outputs": [
    {
     "name": "stdout",
     "output_type": "stream",
     "text": [
      "1\n",
      "2\n",
      "3\n",
      "4\n",
      "4\n",
      "3\n",
      "2\n",
      "1\n"
     ]
    }
   ],
   "source": [
    "def mystery(n): # Takes a single argument in its parameters (Integer or float).\n",
    "    print(n) # First print of n (Incrementally prints 1,2,3,4)\n",
    "    if n < 4: # If n is less than 4, continue to the line below. If n is 4 or more we skip the mystery(n + 1) call below.\n",
    "        mystery(n + 1) # Adds 1 onto n, and pushes this call onto the stack. Now recursion returns to second line.\n",
    "    print(n) # Second print of n (Incrementally prints 4,3,2,1). This print occurs once n becomes >= to 4.\n",
    "    \n",
    "mystery(1)"
   ]
  },
  {
   "cell_type": "code",
   "execution_count": null,
   "metadata": {},
   "outputs": [],
   "source": []
  }
 ],
 "metadata": {
  "kernelspec": {
   "display_name": "Python 3",
   "language": "python",
   "name": "python3"
  },
  "language_info": {
   "codemirror_mode": {
    "name": "ipython",
    "version": 3
   },
   "file_extension": ".py",
   "mimetype": "text/x-python",
   "name": "python",
   "nbconvert_exporter": "python",
   "pygments_lexer": "ipython3",
   "version": "3.7.0"
  }
 },
 "nbformat": 4,
 "nbformat_minor": 2
}
