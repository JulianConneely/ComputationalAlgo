{
 "cells": [
  {
   "cell_type": "markdown",
   "metadata": {},
   "source": [
    "# Project: Benchmarking Sorting Algorithms"
   ]
  },
  {
   "cell_type": "raw",
   "metadata": {},
   "source": [
    "For  this project  you  will  write  a Python application  which will  be  used  to  benchmark  five  different sorting algorithms. \n",
    "You will also write a report which introduces the algorithms you have chosen, and discusses the results of the benchmarking process.\n",
    "The five sorting algorithms which you will implement, benchmark and discuss in this project must be chosen according to the following criteria:\n",
    "1.A simple comparison-based sort (Bubble Sort, Selection Sort or Insertion Sort)\n",
    "2.An efficient comparison-based sort (Merge Sort, Quicksort or Heap Sort)\n",
    "3.A non-comparison sort (Counting Sort, Bucket Sort or Radix Sort)\n",
    "4.Any other sorting algorithm of your choice e.g. Bogosort\n",
    "5.Any other sorting algorithm of your choice"
   ]
  },
  {
   "cell_type": "markdown",
   "metadata": {},
   "source": [
    "## Introduction\n",
    "\n",
    "\"Introduce the concept of sorting and sorting algorithms, discuss the relevance of concepts such as complexity (time and space), performance, in-place sorting, stable sorting, comparator functions, comparison-based and non-comparison-based sorts etc.\"\n",
    "\n",
    "Sorting is simply arranging data in ascending or descending order and arranging data in a sequence which makes searching easier.Humans recognise the importance of searching quickly with plenty of real world problems requiring the ability to search quickly e.g. a search for telephone numbers in telephone directory would be much slower if the data was kept unordered and unsorted, but fortunately the concept of sorting came into existence, making it easier for everyone to arrange data in an order. [1]\n",
    "\n",
    "Space complexity is the amount of memory used by the algorithm (including the input values to the algorithm) to execute and produce the result. While executing an algorithm uses memory space for three reasons: 1. Instruction Space - the amount of memory used to save the compiled version of instructions; 2. Environmental Stack - Sometimes an algorithm(function) may be called inside another algorithm(function), in that situation the current variables are pushed onto the system stack, where they wait for further execution and then the call to the inside algorithm(function) is made. 3. Data Space - is the amount of space used by the variables and constants.\n",
    "\n",
    "Time complexity of an algorithm signifies the total time required by the program to run until completion and is most commonly expressed using the big O notation. Time complexity is estimated by counting the number of elementary steps performed by any algorithm to finish execution, and since the algorithm's performance may vary with different types of input data for an algorithm we usually use the worst-case Time complexity of an algorithm because that is the maximum time taken for any input size.\n",
    "\n",
    "The most common metric for calculating time complexity is Big O notation. This removes all constant factors so that the running time can be estimated in relation to N, as N approaches infinity. Big O(expression) is the set of functions that grow slower than or at the same rate as expression. It indicates the maximum time required by an algorithm for all input values and represents the worst case of an algorithm's time complexity.\n",
    "\n",
    "The Omega(expression) is the set of functions that grow faster than or at the same rate as expression. It indicates the minimum time required by an algorithm for all input values. It represents the best case of an algorithm's time complexity.\n",
    "\n",
    "Finally Theta(expression) consist of all the functions that lie in both O(expression) and Omega(expression). It indicates the average bound of an algorithm. It represents the average case of an algorithm's time complexity.\n",
    "\n",
    "The different sorting algorithms all highlight how algorithm design has such a strong effect on program complexity, speed, and efficiency. The two main criteria used in the performance analysis of an alogrithim are time taken to sort the given data, and memory used to in order to sort. [1]\n",
    "\n",
    "Sorting can be classified in two types on the basis of extra space used for sorting: In place sorting does not use any extra space for sorting purpose e.g. quick sort ,merge sort ,bubble sort; Out place sorting needs extra space for sorting purposes e.g. Merge sort. [2] \n",
    "\n",
    "A stable sorting algorithm maintains the relative order of the items with equal sort keys e.g. Insertion sort. An unstable sorting algorithm does not e.g. Selection sort. In other words, when a collection is sorted with a stable sorting algorithm, items with the same sort keys preserve their order after the collection is sorted. [3}\n",
    "\n",
    "The QuickSort algorithm can be used to sort an array, and utilisises the comparator function which can take two arguments and contains logic to decide their relative order in a sorted output. The idea is to provide flexibility so that Quicksort can be used for any input type and to obtain any desired order (increasing, decreasing or any other).\n",
    "\n",
    "A comparison-based sort algorithm uses comparisons between keys (part of a group of data by which it is sorted) to arrange items in a predetermined order and cannot perform better than O(n log n) in the average or worst case e.g. Quicksort.\n",
    "With a non-comparison-based sort algorithm, the keys are not compared rather it sorts the keys by sorting individual digits which may share the same position e.g. bucket sort. [4] \n",
    "\n",
    "\n"
   ]
  },
  {
   "cell_type": "code",
   "execution_count": 1,
   "metadata": {},
   "outputs": [
    {
     "name": "stdout",
     "output_type": "stream",
     "text": [
      "1\n",
      "2\n",
      "3\n",
      "4\n",
      "4\n",
      "3\n",
      "2\n",
      "1\n"
     ]
    }
   ],
   "source": [
    "def mystery(n): # Takes a single argument in its parameters (Integer or float).\n",
    "    print(n) # First print of n (Incrementally prints 1,2,3,4)\n",
    "    if n < 4: # If n is less than 4, continue to the line below. If n is 4 or more we skip the mystery(n + 1) call below.\n",
    "        mystery(n + 1) # Adds 1 onto n, and pushes this call onto the stack. Now recursion returns to second line.\n",
    "    print(n) # Second print of n (Incrementally prints 4,3,2,1). This print occurs once n becomes >= to 4.\n",
    "    \n",
    "mystery(1)"
   ]
  },
  {
   "cell_type": "markdown",
   "metadata": {},
   "source": [
    "## References:\n",
    "1. https://www.studytonight.com/data-structures/introduction-to-sorting\n",
    "2. https://www.quora.com/What-are-in-place-and-out-of-place-sorting-algorithms\n",
    "3. https://medium.freecodecamp.org/stability-in-sorting-algorithms-a-treatment-of-equality-fa3140a5a539\n",
    "4. https://en.wikipedia.org/wiki/Sorting_algorithm#Stability\n"
   ]
  },
  {
   "cell_type": "code",
   "execution_count": null,
   "metadata": {},
   "outputs": [],
   "source": []
  }
 ],
 "metadata": {
  "kernelspec": {
   "display_name": "Python 3",
   "language": "python",
   "name": "python3"
  },
  "language_info": {
   "codemirror_mode": {
    "name": "ipython",
    "version": 3
   },
   "file_extension": ".py",
   "mimetype": "text/x-python",
   "name": "python",
   "nbconvert_exporter": "python",
   "pygments_lexer": "ipython3",
   "version": "3.7.0"
  }
 },
 "nbformat": 4,
 "nbformat_minor": 2
}
